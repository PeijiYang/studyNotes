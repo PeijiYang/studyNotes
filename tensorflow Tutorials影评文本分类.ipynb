{
 "cells": [
  {
   "cell_type": "markdown",
   "metadata": {},
   "source": [
    "这是一个二分类文本示例，来自tensorflow的官方教程，用于入门自然语言处理。使用IMDB数据集，训练集25000条，测试集25000条。包含正面影评和负面影评。"
   ]
  },
  {
   "cell_type": "code",
   "execution_count": 2,
   "metadata": {},
   "outputs": [
    {
     "name": "stdout",
     "output_type": "stream",
     "text": [
      "1.13.1\n"
     ]
    }
   ],
   "source": [
    "import tensorflow as tf\n",
    "from tensorflow import keras\n",
    "\n",
    "import numpy as np\n",
    "\n",
    "print(tf.__version__)"
   ]
  },
  {
   "cell_type": "code",
   "execution_count": 3,
   "metadata": {},
   "outputs": [
    {
     "name": "stdout",
     "output_type": "stream",
     "text": [
      "Downloading data from https://storage.googleapis.com/tensorflow/tf-keras-datasets/imdb.npz\n",
      "17465344/17464789 [==============================] - 10s 1us/step\n"
     ]
    }
   ],
   "source": [
    "# 下载IMDB数据集\n",
    "\n",
    "imdb = keras.datasets.imdb\n",
    "\n",
    "(train_data, train_labels), (test_data, test_labels) = imdb.load_data(num_words=10000)"
   ]
  },
  {
   "cell_type": "code",
   "execution_count": 6,
   "metadata": {},
   "outputs": [
    {
     "name": "stdout",
     "output_type": "stream",
     "text": [
      "Training entries: 25000, labels: 25000\n",
      "[1, 14, 22, 16, 43, 530, 973, 1622, 1385, 65, 458, 4468, 66, 3941, 4, 173, 36, 256, 5, 25, 100, 43, 838, 112, 50, 670, 2, 9, 35, 480, 284, 5, 150, 4, 172, 112, 167, 2, 336, 385, 39, 4, 172, 4536, 1111, 17, 546, 38, 13, 447, 4, 192, 50, 16, 6, 147, 2025, 19, 14, 22, 4, 1920, 4613, 469, 4, 22, 71, 87, 12, 16, 43, 530, 38, 76, 15, 13, 1247, 4, 22, 17, 515, 17, 12, 16, 626, 18, 2, 5, 62, 386, 12, 8, 316, 8, 106, 5, 4, 2223, 5244, 16, 480, 66, 3785, 33, 4, 130, 12, 16, 38, 619, 5, 25, 124, 51, 36, 135, 48, 25, 1415, 33, 6, 22, 12, 215, 28, 77, 52, 5, 14, 407, 16, 82, 2, 8, 4, 107, 117, 5952, 15, 256, 4, 2, 7, 3766, 5, 723, 36, 71, 43, 530, 476, 26, 400, 317, 46, 7, 4, 2, 1029, 13, 104, 88, 4, 381, 15, 297, 98, 32, 2071, 56, 26, 141, 6, 194, 7486, 18, 4, 226, 22, 21, 134, 476, 26, 480, 5, 144, 30, 5535, 18, 51, 36, 28, 224, 92, 25, 104, 4, 226, 65, 16, 38, 1334, 88, 12, 16, 283, 5, 16, 4472, 113, 103, 32, 15, 16, 5345, 19, 178, 32]\n",
      "218 189\n"
     ]
    }
   ],
   "source": [
    "# 观察数据\n",
    "print(\"Training entries: {}, labels: {}\".format(len(train_data), len(train_labels)))\n",
    "print(train_data[0])\n",
    "print(len(train_data[0]), len(train_data[1]))"
   ]
  },
  {
   "cell_type": "markdown",
   "metadata": {},
   "source": [
    "观看上面的输出可以看到，文本数据已经被处理成了整数，每个整数代表的是一个词，其实应该是该词在词典中的序号。"
   ]
  },
  {
   "cell_type": "code",
   "execution_count": 17,
   "metadata": {},
   "outputs": [],
   "source": [
    "# 读取词典，可以将整数转换为文本\n",
    "word_index = imdb.get_word_index()\n",
    "\n",
    "# 字典中预留了一部分非文字类的词，比如标识符<start>, 还有UNK等\n",
    "word_index = {k:(v+3) for k,v in word_index.items()}\n",
    "word_index[\"<PAD>\"] = 0\n",
    "word_index[\"<START>\"] = 1\n",
    "word_index[\"<UNK>\"] = 2  # unknown\n",
    "word_index[\"<UNUSED>\"] = 3\n",
    "\n",
    "# 该字典用于将index转换为文字\n",
    "reverse_word_index = dict([(value, key) for (key, value) in word_index.items()])\n",
    "\n",
    "def decode_review(text):\n",
    "    return ' '.join([reverse_word_index[i] for i in text])"
   ]
  },
  {
   "cell_type": "code",
   "execution_count": 18,
   "metadata": {},
   "outputs": [
    {
     "name": "stdout",
     "output_type": "stream",
     "text": [
      "<START> this film was just brilliant casting location scenery story direction everyone's really suited the part they played and you could just imagine being there robert <UNK> is an amazing actor and now the same being director <UNK> father came from the same scottish island as myself so i loved the fact there was a real connection with this film the witty remarks throughout the film were great it was just brilliant so much that i bought the film as soon as it was released for <UNK> and would recommend it to everyone to watch and the fly fishing was amazing really cried at the end it was so sad and you know what they say if you cry at a film it must have been good and this definitely was also <UNK> to the two little boy's that played the <UNK> of norman and paul they were just brilliant children are often left out of the <UNK> list i think because the stars that play them all grown up are such a big profile for the whole film but these children are amazing and should be praised for what they have done don't you think the whole story was so lovely because it was true and was someone's life after all that was shared with us all\n"
     ]
    }
   ],
   "source": [
    "print(decode_review(train_data[0]))"
   ]
  },
  {
   "cell_type": "markdown",
   "metadata": {},
   "source": [
    "# 准备数据\n",
    "影评（整数数组）必须转换为张量，且必须具有相同的长度，然后才能馈送到神经网络中。使用onehot编码会导致占用大量闪存，我们可以使用填充数组的方法。"
   ]
  },
  {
   "cell_type": "code",
   "execution_count": 19,
   "metadata": {},
   "outputs": [],
   "source": [
    "# 使用<PAD>补齐不够长的数组，设置maxlen为256，则所有向量的长度均为256\n",
    "train_data = keras.preprocessing.sequence.pad_sequences(train_data,\n",
    "                                                        value=word_index[\"<PAD>\"],\n",
    "                                                        padding='post',\n",
    "                                                        maxlen=256)\n",
    "test_data = keras.preprocessing.sequence.pad_sequences(test_data,\n",
    "                                                       value=word_index[\"<PAD>\"],\n",
    "                                                       padding='post',\n",
    "                                                       maxlen=256)"
   ]
  },
  {
   "cell_type": "code",
   "execution_count": 22,
   "metadata": {},
   "outputs": [
    {
     "name": "stdout",
     "output_type": "stream",
     "text": [
      "256 256\n",
      "[   1   14   22   16   43  530  973 1622 1385   65  458 4468   66 3941\n",
      "    4  173   36  256    5   25  100   43  838  112   50  670    2    9\n",
      "   35  480  284    5  150    4  172  112  167    2  336  385   39    4\n",
      "  172 4536 1111   17  546   38   13  447    4  192   50   16    6  147\n",
      " 2025   19   14   22    4 1920 4613  469    4   22   71   87   12   16\n",
      "   43  530   38   76   15   13 1247    4   22   17  515   17   12   16\n",
      "  626   18    2    5   62  386   12    8  316    8  106    5    4 2223\n",
      " 5244   16  480   66 3785   33    4  130   12   16   38  619    5   25\n",
      "  124   51   36  135   48   25 1415   33    6   22   12  215   28   77\n",
      "   52    5   14  407   16   82    2    8    4  107  117 5952   15  256\n",
      "    4    2    7 3766    5  723   36   71   43  530  476   26  400  317\n",
      "   46    7    4    2 1029   13  104   88    4  381   15  297   98   32\n",
      " 2071   56   26  141    6  194 7486   18    4  226   22   21  134  476\n",
      "   26  480    5  144   30 5535   18   51   36   28  224   92   25  104\n",
      "    4  226   65   16   38 1334   88   12   16  283    5   16 4472  113\n",
      "  103   32   15   16 5345   19  178   32    0    0    0    0    0    0\n",
      "    0    0    0    0    0    0    0    0    0    0    0    0    0    0\n",
      "    0    0    0    0    0    0    0    0    0    0    0    0    0    0\n",
      "    0    0    0    0]\n"
     ]
    }
   ],
   "source": [
    "print(len(train_data[0]), len(train_data[1]))\n",
    "print(train_data[0])"
   ]
  },
  {
   "cell_type": "markdown",
   "metadata": {},
   "source": [
    "# 构建模型\n",
    "输入数据已经由文本转换为对应的索引数组，预测的标签为0或1\n",
    "\n",
    "第一层是Embedding层，该层会在整数编码的词汇表中查找每个字词-索引的嵌入向量。模型在接受训练时会学习这些向量。这些向量会向输出数组添加一个维度。生成的维度为: (batch, sequence, embedding)\n",
    "\n",
    "GlobalAveragePooling1D层对序列维度求平均值，也就是将每句话的所有词向量进行加和求平均，每个训练语句就可以被表示成长度相同的一维向量。\n",
    "\n",
    "然后输入到一个全连接层，激活函数为relu。\n",
    "最后一层输出结果，使用sigmoid激活函数，计算置信水平。"
   ]
  },
  {
   "cell_type": "code",
   "execution_count": 24,
   "metadata": {},
   "outputs": [
    {
     "name": "stdout",
     "output_type": "stream",
     "text": [
      "WARNING:tensorflow:From D:\\ProgramFiles\\Anaconda3\\envs\\py36\\lib\\site-packages\\tensorflow\\python\\ops\\resource_variable_ops.py:435: colocate_with (from tensorflow.python.framework.ops) is deprecated and will be removed in a future version.\n",
      "Instructions for updating:\n",
      "Colocations handled automatically by placer.\n",
      "_________________________________________________________________\n",
      "Layer (type)                 Output Shape              Param #   \n",
      "=================================================================\n",
      "embedding (Embedding)        (None, None, 16)          160000    \n",
      "_________________________________________________________________\n",
      "global_average_pooling1d (Gl (None, 16)                0         \n",
      "_________________________________________________________________\n",
      "dense (Dense)                (None, 16)                272       \n",
      "_________________________________________________________________\n",
      "dense_1 (Dense)              (None, 1)                 17        \n",
      "=================================================================\n",
      "Total params: 160,289\n",
      "Trainable params: 160,289\n",
      "Non-trainable params: 0\n",
      "_________________________________________________________________\n"
     ]
    }
   ],
   "source": [
    "# 设置最长词典大小\n",
    "vocab_size = 10000\n",
    "\n",
    "model = keras.Sequential()\n",
    "model.add(keras.layers.Embedding(vocab_size, 16))\n",
    "model.add(keras.layers.GlobalAveragePooling1D())\n",
    "model.add(keras.layers.Dense(16, activation=tf.nn.relu))\n",
    "model.add(keras.layers.Dense(1, activation=tf.nn.sigmoid))\n",
    "\n",
    "model.summary()"
   ]
  },
  {
   "cell_type": "markdown",
   "metadata": {},
   "source": [
    "# 设置损失函数和优化器\n",
    "\n",
    "损失函数使用交叉熵crossentropy， 评价函数为acc， 即预测准确的样本占总样本数量。"
   ]
  },
  {
   "cell_type": "code",
   "execution_count": 26,
   "metadata": {},
   "outputs": [],
   "source": [
    "model.compile(optimizer=tf.train.AdamOptimizer(),\n",
    "              loss='binary_crossentropy',\n",
    "              metrics=['accuracy'])"
   ]
  },
  {
   "cell_type": "markdown",
   "metadata": {},
   "source": [
    "# 训练"
   ]
  },
  {
   "cell_type": "code",
   "execution_count": 27,
   "metadata": {},
   "outputs": [],
   "source": [
    "# 创建验证集\n",
    "#取10000个数据作为验证集\n",
    "\n",
    "x_val = train_data[:10000]\n",
    "partial_x_train = train_data[10000:]\n",
    "\n",
    "y_val = train_labels[:10000]\n",
    "partial_y_train = train_labels[10000:]"
   ]
  },
  {
   "cell_type": "code",
   "execution_count": 28,
   "metadata": {},
   "outputs": [
    {
     "name": "stdout",
     "output_type": "stream",
     "text": [
      "Train on 15000 samples, validate on 10000 samples\n",
      "WARNING:tensorflow:From D:\\ProgramFiles\\Anaconda3\\envs\\py36\\lib\\site-packages\\tensorflow\\python\\ops\\math_ops.py:3066: to_int32 (from tensorflow.python.ops.math_ops) is deprecated and will be removed in a future version.\n",
      "Instructions for updating:\n",
      "Use tf.cast instead.\n",
      "Epoch 1/40\n",
      "15000/15000 [==============================] - 2s 149us/sample - loss: 0.6918 - acc: 0.6125 - val_loss: 0.6894 - val_acc: 0.6356\n",
      "Epoch 2/40\n",
      "15000/15000 [==============================] - 1s 67us/sample - loss: 0.6845 - acc: 0.7227 - val_loss: 0.6791 - val_acc: 0.7523\n",
      "Epoch 3/40\n",
      "15000/15000 [==============================] - 1s 68us/sample - loss: 0.6685 - acc: 0.7674 - val_loss: 0.6593 - val_acc: 0.7637\n",
      "Epoch 4/40\n",
      "15000/15000 [==============================] - 1s 66us/sample - loss: 0.6415 - acc: 0.7763 - val_loss: 0.6290 - val_acc: 0.7674\n",
      "Epoch 5/40\n",
      "15000/15000 [==============================] - 1s 66us/sample - loss: 0.6033 - acc: 0.8015 - val_loss: 0.5901 - val_acc: 0.7934\n",
      "Epoch 6/40\n",
      "15000/15000 [==============================] - 1s 67us/sample - loss: 0.5572 - acc: 0.8213 - val_loss: 0.5468 - val_acc: 0.8109\n",
      "Epoch 7/40\n",
      "15000/15000 [==============================] - 1s 67us/sample - loss: 0.5078 - acc: 0.8376 - val_loss: 0.5016 - val_acc: 0.8271\n",
      "Epoch 8/40\n",
      "15000/15000 [==============================] - 1s 67us/sample - loss: 0.4601 - acc: 0.8547 - val_loss: 0.4612 - val_acc: 0.8398\n",
      "Epoch 9/40\n",
      "15000/15000 [==============================] - 1s 67us/sample - loss: 0.4171 - acc: 0.8683 - val_loss: 0.4260 - val_acc: 0.8488\n",
      "Epoch 10/40\n",
      "15000/15000 [==============================] - 1s 67us/sample - loss: 0.3799 - acc: 0.8786 - val_loss: 0.3975 - val_acc: 0.8548\n",
      "Epoch 11/40\n",
      "15000/15000 [==============================] - 1s 67us/sample - loss: 0.3487 - acc: 0.8869 - val_loss: 0.3743 - val_acc: 0.8632\n",
      "Epoch 12/40\n",
      "15000/15000 [==============================] - 1s 68us/sample - loss: 0.3226 - acc: 0.8934 - val_loss: 0.3565 - val_acc: 0.8658\n",
      "Epoch 13/40\n",
      "15000/15000 [==============================] - 1s 66us/sample - loss: 0.3012 - acc: 0.8995 - val_loss: 0.3409 - val_acc: 0.8713\n",
      "Epoch 14/40\n",
      "15000/15000 [==============================] - 1s 68us/sample - loss: 0.2820 - acc: 0.9045 - val_loss: 0.3295 - val_acc: 0.8744\n",
      "Epoch 15/40\n",
      "15000/15000 [==============================] - 1s 67us/sample - loss: 0.2657 - acc: 0.9083 - val_loss: 0.3203 - val_acc: 0.8753\n",
      "Epoch 16/40\n",
      "15000/15000 [==============================] - 1s 67us/sample - loss: 0.2511 - acc: 0.9144 - val_loss: 0.3124 - val_acc: 0.8763\n",
      "Epoch 17/40\n",
      "15000/15000 [==============================] - 1s 66us/sample - loss: 0.2376 - acc: 0.9187 - val_loss: 0.3059 - val_acc: 0.8794\n",
      "Epoch 18/40\n",
      "15000/15000 [==============================] - 1s 68us/sample - loss: 0.2256 - acc: 0.9233 - val_loss: 0.3004 - val_acc: 0.8816\n",
      "Epoch 19/40\n",
      "15000/15000 [==============================] - 1s 68us/sample - loss: 0.2147 - acc: 0.9249 - val_loss: 0.2958 - val_acc: 0.8830\n",
      "Epoch 20/40\n",
      "15000/15000 [==============================] - 1s 68us/sample - loss: 0.2049 - acc: 0.9294 - val_loss: 0.2927 - val_acc: 0.8830\n",
      "Epoch 21/40\n",
      "15000/15000 [==============================] - 1s 68us/sample - loss: 0.1949 - acc: 0.9352 - val_loss: 0.2901 - val_acc: 0.8827\n",
      "Epoch 22/40\n",
      "15000/15000 [==============================] - 1s 67us/sample - loss: 0.1866 - acc: 0.9381 - val_loss: 0.2880 - val_acc: 0.8856\n",
      "Epoch 23/40\n",
      "15000/15000 [==============================] - 1s 68us/sample - loss: 0.1781 - acc: 0.9424 - val_loss: 0.2873 - val_acc: 0.8835\n",
      "Epoch 24/40\n",
      "15000/15000 [==============================] - 1s 67us/sample - loss: 0.1708 - acc: 0.9454 - val_loss: 0.2859 - val_acc: 0.8854\n",
      "Epoch 25/40\n",
      "15000/15000 [==============================] - 1s 68us/sample - loss: 0.1633 - acc: 0.9486 - val_loss: 0.2848 - val_acc: 0.8858\n",
      "Epoch 26/40\n",
      "15000/15000 [==============================] - 1s 67us/sample - loss: 0.1567 - acc: 0.9511 - val_loss: 0.2856 - val_acc: 0.8837\n",
      "Epoch 27/40\n",
      "15000/15000 [==============================] - 1s 68us/sample - loss: 0.1503 - acc: 0.9538 - val_loss: 0.2854 - val_acc: 0.8853\n",
      "Epoch 28/40\n",
      "15000/15000 [==============================] - 1s 67us/sample - loss: 0.1443 - acc: 0.9560 - val_loss: 0.2860 - val_acc: 0.8856\n",
      "Epoch 29/40\n",
      "15000/15000 [==============================] - 1s 68us/sample - loss: 0.1390 - acc: 0.9587 - val_loss: 0.2879 - val_acc: 0.8836\n",
      "Epoch 30/40\n",
      "15000/15000 [==============================] - 1s 67us/sample - loss: 0.1334 - acc: 0.9602 - val_loss: 0.2875 - val_acc: 0.8857\n",
      "Epoch 31/40\n",
      "15000/15000 [==============================] - 1s 68us/sample - loss: 0.1278 - acc: 0.9625 - val_loss: 0.2888 - val_acc: 0.8859\n",
      "Epoch 32/40\n",
      "15000/15000 [==============================] - 1s 67us/sample - loss: 0.1228 - acc: 0.9662 - val_loss: 0.2905 - val_acc: 0.8859\n",
      "Epoch 33/40\n",
      "15000/15000 [==============================] - 1s 67us/sample - loss: 0.1179 - acc: 0.9669 - val_loss: 0.2930 - val_acc: 0.8844\n",
      "Epoch 34/40\n",
      "15000/15000 [==============================] - 1s 68us/sample - loss: 0.1136 - acc: 0.9685 - val_loss: 0.2952 - val_acc: 0.8855\n",
      "Epoch 35/40\n",
      "15000/15000 [==============================] - 1s 69us/sample - loss: 0.1095 - acc: 0.9691 - val_loss: 0.2981 - val_acc: 0.8842\n",
      "Epoch 36/40\n",
      "15000/15000 [==============================] - 1s 68us/sample - loss: 0.1052 - acc: 0.9717 - val_loss: 0.3000 - val_acc: 0.8842\n",
      "Epoch 37/40\n",
      "15000/15000 [==============================] - 1s 67us/sample - loss: 0.1010 - acc: 0.9727 - val_loss: 0.3027 - val_acc: 0.8824\n",
      "Epoch 38/40\n",
      "15000/15000 [==============================] - 1s 68us/sample - loss: 0.0971 - acc: 0.9740 - val_loss: 0.3065 - val_acc: 0.8830\n",
      "Epoch 39/40\n",
      "15000/15000 [==============================] - 1s 67us/sample - loss: 0.0941 - acc: 0.9752 - val_loss: 0.3102 - val_acc: 0.8820\n",
      "Epoch 40/40\n",
      "15000/15000 [==============================] - 1s 69us/sample - loss: 0.0901 - acc: 0.9772 - val_loss: 0.3127 - val_acc: 0.8824\n"
     ]
    }
   ],
   "source": [
    "# 训练\n",
    "history = model.fit(partial_x_train,\n",
    "                    partial_y_train,\n",
    "                    epochs=40,\n",
    "                    batch_size=512,\n",
    "                    validation_data=(x_val, y_val),\n",
    "                    verbose=1)"
   ]
  },
  {
   "cell_type": "markdown",
   "metadata": {},
   "source": [
    "# 预测"
   ]
  },
  {
   "cell_type": "code",
   "execution_count": 29,
   "metadata": {},
   "outputs": [
    {
     "name": "stdout",
     "output_type": "stream",
     "text": [
      "25000/25000 [==============================] - 0s 15us/sample - loss: 0.3347 - acc: 0.8710\n",
      "[0.3347101798057556, 0.87104]\n"
     ]
    }
   ],
   "source": [
    "results = model.evaluate(test_data, test_labels)\n",
    "print(results)"
   ]
  },
  {
   "cell_type": "code",
   "execution_count": null,
   "metadata": {},
   "outputs": [],
   "source": []
  }
 ],
 "metadata": {
  "kernelspec": {
   "display_name": "Python 3",
   "language": "python",
   "name": "python3"
  },
  "language_info": {
   "codemirror_mode": {
    "name": "ipython",
    "version": 3
   },
   "file_extension": ".py",
   "mimetype": "text/x-python",
   "name": "python",
   "nbconvert_exporter": "python",
   "pygments_lexer": "ipython3",
   "version": "3.6.7"
  }
 },
 "nbformat": 4,
 "nbformat_minor": 2
}
